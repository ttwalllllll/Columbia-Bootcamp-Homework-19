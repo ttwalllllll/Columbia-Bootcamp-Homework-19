{
 "cells": [
  {
   "cell_type": "code",
   "execution_count": 1,
   "id": "4096dd81-c2fa-4144-b5a4-828c90e09307",
   "metadata": {},
   "outputs": [],
   "source": [
    "import subprocess\n",
    "import json\n",
    "import os\n",
    "from constants import BTC, BTCTEST, ETH\n",
    "from dotenv import load_dotenv\n",
    "from bip_utils import Bip32, Bip39SeedGenerator, Bip44, Bip44Coins, Bip44Changes\n",
    "from bit import PrivateKeyTestnet\n",
    "from bit.network import NetworkAPI\n",
    "from web3 import Web3, middleware, Account\n",
    "from web3.gas_strategies.time_based import medium_gas_price_strategy\n",
    "from web3.middleware import geth_poa_middleware\n",
    "from web3.auto.gethdev import w3"
   ]
  },
  {
   "cell_type": "code",
   "execution_count": 2,
   "id": "c47931f1-477b-42f7-a3a5-c2fd638b5c13",
   "metadata": {},
   "outputs": [],
   "source": [
    "# Load and set environment variables\n",
    "load_dotenv('mnemonic.env')\n",
    "mnemonic= os.getenv(\"mnemonic\")"
   ]
  },
  {
   "cell_type": "code",
   "execution_count": 3,
   "id": "10496b06-7346-4805-8463-74ff5ae5a491",
   "metadata": {},
   "outputs": [
    {
     "name": "stdout",
     "output_type": "stream",
     "text": [
      "btc-test\n"
     ]
    }
   ],
   "source": [
    "print(BTCTEST)\n",
    "#print(mnemonic)"
   ]
  },
  {
   "cell_type": "code",
   "execution_count": 4,
   "id": "f3ca3512-ba81-4b37-bea9-5e3ea432ac6b",
   "metadata": {},
   "outputs": [],
   "source": [
    "#Create a function called `derive_wallets`\n",
    "def derive_wallets(mnemonic, coin, numderive):\n",
    "    command = f'php ./hd-wallet-derive/hd-wallet-derive.php -g --mnemonic=\"{mnemonic}\" --coin=\"{coin}\" --numderive=\"{numderive}\" --cols=path,address,privkey,pubkey --format=json'\n",
    "    p = subprocess.Popen(command, stdout=subprocess.PIPE, shell=True)\n",
    "    output, err = p.communicate()\n",
    "    p_status = p.wait()\n",
    "    return json.loads(output)\n",
    "\n",
    "numderive = 3\n",
    "\n",
    "# Create a dictionary object called coins to store the output from `derive_wallets`.\n",
    "\n",
    "coins = {\"btc-test\": derive_wallets(mnemonic, BTCTEST, numderive), \"eth\": derive_wallets(mnemonic, ETH, numderive)}\n"
   ]
  },
  {
   "cell_type": "code",
   "execution_count": 5,
   "id": "7274bb46-c0d0-45c7-8954-633629c4ba58",
   "metadata": {},
   "outputs": [
    {
     "data": {
      "text/plain": [
       "{'btc-test': [{'path': \"m/44'/1'/0'/0/0\",\n",
       "   'address': 'mqwUTRp6LmdbdzDK9wR79bGWY4ccrEcfV5',\n",
       "   'privkey': 'cTkg7fHbvED8eacqCUsAkUJmSJv7LWjbqDZcv2t2LwdNyZL2muRa',\n",
       "   'pubkey': '026e74912bb41ea3132b57369531a845f538db41575148bfd75fb410cbb1480237'},\n",
       "  {'path': \"m/44'/1'/0'/0/1\",\n",
       "   'address': 'mifowmkNiwYm3Dxo2tABZiQU2yy67FEDJS',\n",
       "   'privkey': 'cQ4JD4dL2PVW5YbJypRg7ZjxLNouKnxjFPqknH13rxLmQoHpq83o',\n",
       "   'pubkey': '029f83387003bc5ea1766e63842bb44d1235196abe5b9ddab09ad8e90adfc2b05f'},\n",
       "  {'path': \"m/44'/1'/0'/0/2\",\n",
       "   'address': 'moDKqkjmr97WxLtHaHimTTP4HceCx25qfD',\n",
       "   'privkey': 'cQoxfK9cPEgkCdwf8AHPseezAdgzzyWuj5UJ7dWm9nCEFJPPRDSQ',\n",
       "   'pubkey': '0272b4122f6cee823386c8ac44e9d0492d6c7a7354f796a0e211771387ce1c184b'}],\n",
       " 'eth': [{'path': \"m/44'/60'/0'/0/0\",\n",
       "   'address': '0x2Ff466B4824B924D99ba079fa3f76FFf5eC53a7B',\n",
       "   'privkey': '0x3619968a4f0f2c1d7b46e44bb434844aaf8b772504a278d1059815b2d67ef26b',\n",
       "   'pubkey': '027796808fb9e92116399cf82e1c08a6e32db1adab7ac6568fd96b419c65f796bb'},\n",
       "  {'path': \"m/44'/60'/0'/0/1\",\n",
       "   'address': '0x1Fc339A6F7fbbAeE3B0Bd4690622fDD55ab0E548',\n",
       "   'privkey': '0x89fccd890d1a3e7dd40b5552842e1283d4931dfea7af6fd6282e7165b3be263a',\n",
       "   'pubkey': '026ab76fd5318ca5a0c29904a5abdcf7cea51ff0a478a5e0ef2569b98b78c24636'},\n",
       "  {'path': \"m/44'/60'/0'/0/2\",\n",
       "   'address': '0xC1e38d35B6Fe4a61A4d8ef32DfB0921F37B83A85',\n",
       "   'privkey': '0x003b904161f996c1c88e7cbfbe2d633ab8b7ee898385b40f6c3a7ff88e833e0e',\n",
       "   'pubkey': '0307e70b7342a949a57d7d7047c9d7a098ca170bcc91380ed970e570055bb70b4b'}]}"
      ]
     },
     "execution_count": 5,
     "metadata": {},
     "output_type": "execute_result"
    }
   ],
   "source": [
    "coins"
   ]
  },
  {
   "cell_type": "code",
   "execution_count": 6,
   "id": "4a6eac55-c030-4d10-8287-ea76365d9525",
   "metadata": {},
   "outputs": [],
   "source": [
    "# Create a function called `priv_key_to_account` that converts privkey strings to account objects.\n",
    "def priv_key_to_account(coin, priv_key):\n",
    "    if coin == ETH:\n",
    "        return Account.privateKeyToAccount(priv_key)\n",
    "    elif coin == BTCTEST:\n",
    "        return PrivateKeyTestnet(priv_key)\n",
    "\n",
    "# Create a function called `create_tx` that creates an unsigned transaction appropriate metadata.\n",
    "def create_tx(coin, account, receiver, amount):\n",
    "    if coin == ETH:\n",
    "        gasEstimate = w3.eth.estimateGas(\n",
    "            {\"from\":eth_acc.address, \"to\": to, \"value\": amount}\n",
    "        )\n",
    "        return {\n",
    "            \"from\": eth_acc.address,\n",
    "            \"to\": receiver,\n",
    "            \"value\": amount,\n",
    "            \"gasPrice\": w3.eth.gasPrice,\n",
    "            \"gas\": gasEstimate,\n",
    "            \"nonce\": w3.eth.getTransactionCount(eth_acc.address),\n",
    "            \"chainID\": web3.eth.chain_id,\n",
    "        }\n",
    "\n",
    "    elif coin == BTCTEST:\n",
    "        return PrivateKeyTestnet.prepare_transaction(account.address,[(receiver, amount, BTC)])\n",
    "\n",
    "# Create a function called `send_tx` that calls `create_tx`, signs and sends the transaction.\n",
    "def send_tx(coin, account, receiver, amount):\n",
    "    txn = create_tx(coin, account, receiver, amount)\n",
    "    if coin == ETH:\n",
    "        signed_txn = eth_acc.sign_transaction(txn)\n",
    "        result = w3.eth.sendRawTransaction(signed_txn.rawTransaction)\n",
    "        return result\n",
    "    \n",
    "    elif coin == BTCTEST:\n",
    "        tx_btctest = create_tx(coin, account, receiver, amount)\n",
    "        signed_txn = account.sign_transaction(txn)\n",
    "        return NetworkAPI.broadcast_tx_testnet(signed_txn)"
   ]
  },
  {
   "cell_type": "code",
   "execution_count": 7,
   "id": "071a8368-53f6-4904-8dea-057f5ca8e347",
   "metadata": {},
   "outputs": [],
   "source": [
    "btc_sender = coins[\"btc-test\"][0]['privkey']\n",
    "#sending account\n",
    "btc_receiver = coins[\"btc-test\"][1]['address']\n",
    "#receiving account\n",
    "\n",
    "#send_tx(BTCTEST, priv_key_to_account(btc-test, btc_key),btc_address, 0.00000)"
   ]
  },
  {
   "cell_type": "code",
   "execution_count": 8,
   "id": "57ce35ca-01c2-4462-a74e-414bb5000c01",
   "metadata": {},
   "outputs": [
    {
     "data": {
      "text/plain": [
       "'cTkg7fHbvED8eacqCUsAkUJmSJv7LWjbqDZcv2t2LwdNyZL2muRa'"
      ]
     },
     "execution_count": 8,
     "metadata": {},
     "output_type": "execute_result"
    }
   ],
   "source": [
    "btc_sender"
   ]
  },
  {
   "cell_type": "code",
   "execution_count": 9,
   "id": "b033e257-0c1f-414d-b4a8-df73ea9cb871",
   "metadata": {},
   "outputs": [
    {
     "data": {
      "text/plain": [
       "'mifowmkNiwYm3Dxo2tABZiQU2yy67FEDJS'"
      ]
     },
     "execution_count": 9,
     "metadata": {},
     "output_type": "execute_result"
    }
   ],
   "source": [
    "btc_receiver"
   ]
  },
  {
   "cell_type": "code",
   "execution_count": 10,
   "id": "1e1046c7-7d27-4eb3-828e-436fe8242500",
   "metadata": {},
   "outputs": [],
   "source": [
    "#create_tx(BTCTEST,priv_key_to_account(BTCTEST, btc_sender) ,btc_receiver, 0.00001)"
   ]
  },
  {
   "cell_type": "code",
   "execution_count": 11,
   "id": "4c1a3558-d9fb-46a1-9360-e51adfccf097",
   "metadata": {},
   "outputs": [],
   "source": [
    "#send_tx(BTCTEST,priv_key_to_account(BTCTEST, btc_sender) ,btc_receiver, 0.00001)"
   ]
  }
 ],
 "metadata": {
  "kernelspec": {
   "display_name": "Python 3",
   "language": "python",
   "name": "python3"
  },
  "language_info": {
   "codemirror_mode": {
    "name": "ipython",
    "version": 3
   },
   "file_extension": ".py",
   "mimetype": "text/x-python",
   "name": "python",
   "nbconvert_exporter": "python",
   "pygments_lexer": "ipython3",
   "version": "3.8.8"
  }
 },
 "nbformat": 4,
 "nbformat_minor": 5
}
